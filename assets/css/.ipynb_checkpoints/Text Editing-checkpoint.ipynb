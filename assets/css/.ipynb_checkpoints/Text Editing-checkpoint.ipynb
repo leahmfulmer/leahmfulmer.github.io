{
 "cells": [
  {
   "cell_type": "code",
   "execution_count": null,
   "metadata": {},
   "outputs": [],
   "source": [
    "Jacobsen Fund Travel Grant, University of Washington Astronomy Department, 2018\n",
    "AAS Education and Professional Development Mini-Grant, American Astronomical Society, 2018\n",
    "Achievement Rewards for College Scientists Fellowship, ARCS Foundation, Inc., 2018\n",
    "Chambliss Astronomy Achievement Award Honorable Mention, American Astronomical Society, 2018\n",
    "Doherty Award for Excellence in Astronomy, UW-Madison Department of Astronomy, 2017\n",
    "Graduated with Honors in the Major, UW-Madison Department of Astronomy, 2017\n",
    "Graduated with Distinction, UW-Madison, 2017\n",
    "Dean's List, UW-Madison, 2017\n",
    "Jay C. Halls Scholarship, UW-Madison College of Letters & Science, 2016\n",
    "Hilldale Undergraduate Research Fellowship, UW-Madison, 2016\n",
    "WSGC Undergraduate Research Fellowship, Wisconsin Space Grant Consortium, 2016\n",
    "WSGC Undergraduate Scholarship, Wisconsin Space Grant Consortium, 2016\n",
    "Fay Ajzenberg-Selove Award, UW-Madison Department of Physics, 2016\n",
    "University Book Store Academic Excellence Award, UW-Madison, 2016\n",
    "International Academic Programs Study Abroad Scholarship, UW-Madison, 2015\n",
    "TDS Telecom Scholarship, Telephone and Data Systems, Inc., 2014\n",
    "Dean's List, UW-Madison, 2013, 2014\n",
    "Kemper K. Knapp Scholarship, UW-Madison, 2013\n",
    "Engineering Freshman Academic Achievement Award, UW-Madison College of Engineering, 2013"
   ]
  }
 ],
 "metadata": {
  "kernelspec": {
   "display_name": "Python 3",
   "language": "python",
   "name": "python3"
  },
  "language_info": {
   "codemirror_mode": {
    "name": "ipython",
    "version": 3
   },
   "file_extension": ".py",
   "mimetype": "text/x-python",
   "name": "python",
   "nbconvert_exporter": "python",
   "pygments_lexer": "ipython3",
   "version": "3.6.4"
  }
 },
 "nbformat": 4,
 "nbformat_minor": 2
}
