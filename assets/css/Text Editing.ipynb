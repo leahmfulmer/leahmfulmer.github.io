{
 "cells": [
  {
   "cell_type": "code",
   "execution_count": 1,
   "metadata": {},
   "outputs": [
    {
     "ename": "SyntaxError",
     "evalue": "invalid syntax (<ipython-input-1-62a8ef5b4af4>, line 1)",
     "output_type": "error",
     "traceback": [
      "\u001b[0;36m  File \u001b[0;32m\"<ipython-input-1-62a8ef5b4af4>\"\u001b[0;36m, line \u001b[0;32m1\u001b[0m\n\u001b[0;31m    Jacobsen Fund Travel Grant, University of Washington Astronomy Department, 2018\u001b[0m\n\u001b[0m                ^\u001b[0m\n\u001b[0;31mSyntaxError\u001b[0m\u001b[0;31m:\u001b[0m invalid syntax\n"
     ]
    }
   ],
   "source": [
    "Jacobsen Fund Travel Grant, University of Washington Astronomy Department, 2018\n",
    "AAS Education and Professional Development Mini-Grant, American Astronomical Society, 2018\n",
    "Achievement Rewards for College Scientists Fellowship, ARCS Foundation, Inc., 2018\n",
    "Chambliss Astronomy Achievement Award Honorable Mention, American Astronomical Society, 2018\n",
    "Doherty Award for Excellence in Astronomy, UW-Madison Department of Astronomy, 2017\n",
    "Graduated with Honors in the Major, UW-Madison Department of Astronomy, 2017\n",
    "Graduated with Distinction, UW-Madison, 2017\n",
    "Dean's List, UW-Madison, 2017\n",
    "Jay C. Halls Scholarship, UW-Madison College of Letters & Science, 2016\n",
    "Hilldale Undergraduate Research Fellowship, UW-Madison, 2016\n",
    "WSGC Undergraduate Research Fellowship, Wisconsin Space Grant Consortium, 2016\n",
    "WSGC Undergraduate Scholarship, Wisconsin Space Grant Consortium, 2016\n",
    "Fay Ajzenberg-Selove Award, UW-Madison Department of Physics, 2016\n",
    "University Book Store Academic Excellence Award, UW-Madison, 2016\n",
    "International Academic Programs Study Abroad Scholarship, UW-Madison, 2015\n",
    "TDS Telecom Scholarship, Telephone and Data Systems, Inc., 2014\n",
    "Dean's List, UW-Madison, 2013, 2014\n",
    "Kemper K. Knapp Scholarship, UW-Madison, 2013\n",
    "Engineering Freshman Academic Achievement Award, UW-Madison College of Engineering, 2013"
   ]
  },
  {
   "cell_type": "code",
   "execution_count": 2,
   "metadata": {},
   "outputs": [
    {
     "ename": "SyntaxError",
     "evalue": "invalid syntax (<ipython-input-2-96eef4dfde4f>, line 1)",
     "output_type": "error",
     "traceback": [
      "\u001b[0;36m  File \u001b[0;32m\"<ipython-input-2-96eef4dfde4f>\"\u001b[0;36m, line \u001b[0;32m1\u001b[0m\n\u001b[0;31m    The NOAO Data Lab: Scientific Applications with Gaia Data Release 2, Tucson Tutorial hosted by the National Optical Astronomy Observatory, May 2018, Tucson, AZ.\u001b[0m\n\u001b[0m           ^\u001b[0m\n\u001b[0;31mSyntaxError\u001b[0m\u001b[0;31m:\u001b[0m invalid syntax\n"
     ]
    }
   ],
   "source": [
    "The NOAO Data Lab: Scientific Applications with Gaia Data Release 2, Tucson Tutorial hosted by the National Optical Astronomy Observatory, May 2018, Tucson, AZ.\n",
    "The NOAO Data Lab: Overview, Applications, Future, DECam Community Science Workshop, May 2018, Tucson, AZ and Python in Astronomy, May 2018, New York, NY.\n",
    "A Dynamic Visualization Tool for the Analysis of SPIKE Scheduling Constraints, 2017 Space Telescope Science Institute Space Astronomy Summer Program Symposium, August 2017, Baltimore, MD.\n",
    "Stellar Evolution of the Star Cluster NGC 602 and its Surroundings in the Low-Density Wing of the Small Magellanic Cloud, University of Wisconsin-Madison Senior Honors Thesis Symposium April 2017, Madison, WI and Undergraduate Research Symposium, April 2017, Madison, WI.\n",
    "Investigating Physical Properties of the Magellanic Bridge via Submillimeter Emission,  University of Valparaiso, August 2016, Valparaiso, Chile.\n",
    "Physical Properties and Submillimeter Excess in Low Metallicity Clouds in the Magellanic Bridge, University of Chile Workshop for Astronomy Students, May 2016, Santiago, Chile.\n",
    "NGC 5523: An Isolated Product of Soft Galaxy Mergers?, WIYN 3.5m Telescope Board of Directors Meeting Invited Speaker, September 2015, Madison, WI."
   ]
  },
  {
   "cell_type": "code",
   "execution_count": null,
   "metadata": {},
   "outputs": [],
   "source": [
    "Skyscrapers in a Desert: Observing Ongoing, Active Star Formation in the Low-Density Wing of the Small Magellanic Cloud, 231st AAS Meeting, January 2018, Washington, D.C. \n",
    "Stellar Evolution of the Star Cluster NGC 602 and Massive Star Formation in the Low-Density Wing of the SMC, 229th AAS Meeting, January 2017, Grapevine, TX. \n",
    "SED Fitting of Virgo Cluster Galaxies and Evidence for Enhanced Star Formation due to Accretion, 227th AAS Meeting, January 2016, Kissimmee, FL.\n",
    "NGC 5523: An Isolated Product of Soft Galaxy Mergers?, 225th AAS Meeting, January 2015, Seattle, WA."
   ]
  }
 ],
 "metadata": {
  "kernelspec": {
   "display_name": "Python 3",
   "language": "python",
   "name": "python3"
  },
  "language_info": {
   "codemirror_mode": {
    "name": "ipython",
    "version": 3
   },
   "file_extension": ".py",
   "mimetype": "text/x-python",
   "name": "python",
   "nbconvert_exporter": "python",
   "pygments_lexer": "ipython3",
   "version": "3.6.4"
  }
 },
 "nbformat": 4,
 "nbformat_minor": 2
}
